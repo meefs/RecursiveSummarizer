{
  "nbformat": 4,
  "nbformat_minor": 0,
  "metadata": {
    "colab": {
      "provenance": [],
      "authorship_tag": "ABX9TyNHowU6IpHUanqLipbocnsJ",
      "include_colab_link": true
    },
    "kernelspec": {
      "name": "python3",
      "display_name": "Python 3"
    },
    "language_info": {
      "name": "python"
    }
  },
  "cells": [
    {
      "cell_type": "markdown",
      "metadata": {
        "id": "view-in-github",
        "colab_type": "text"
      },
      "source": [
        "<a href=\"https://colab.research.google.com/github/meefs/RecursiveSummarizer/blob/main/RecursiveSummarizer.ipynb\" target=\"_parent\"><img src=\"https://colab.research.google.com/assets/colab-badge.svg\" alt=\"Open In Colab\"/></a>"
      ]
    },
    {
      "cell_type": "markdown",
      "source": [
        "Setup environment"
      ],
      "metadata": {
        "id": "4VZX2Um-YvTn"
      }
    },
    {
      "cell_type": "markdown",
      "source": [
        "Before you run the environment...\n",
        "\n",
        "\n",
        "*   Upload your openai API key into a file called 'openaiapikey.txt'\n",
        "*   'openaiapikey.txt' will need to be saved to the same dir containing recursively_summarize.py which is '/content/RecursiveSummarize' \n",
        "\n"
      ],
      "metadata": {
        "id": "hjMszCMmcJ1_"
      }
    },
    {
      "cell_type": "code",
      "execution_count": null,
      "metadata": {
        "colab": {
          "base_uri": "https://localhost:8080/"
        },
        "id": "jVx2Qrd1_4Me",
        "outputId": "9c6b6a86-9ad0-41b9-dd75-a32128f0085e"
      },
      "outputs": [
        {
          "output_type": "stream",
          "name": "stdout",
          "text": [
            "Looking in indexes: https://pypi.org/simple, https://us-python.pkg.dev/colab-wheels/public/simple/\n",
            "Collecting openai\n",
            "  Downloading openai-0.26.4.tar.gz (55 kB)\n",
            "\u001b[2K     \u001b[90m━━━━━━━━━━━━━━━━━━━━━━━━━━━━━━━━━━━━━━━━\u001b[0m \u001b[32m55.6/55.6 KB\u001b[0m \u001b[31m3.0 MB/s\u001b[0m eta \u001b[36m0:00:00\u001b[0m\n",
            "\u001b[?25h  Installing build dependencies ... \u001b[?25l\u001b[?25hdone\n",
            "  Getting requirements to build wheel ... \u001b[?25l\u001b[?25hdone\n",
            "  Installing backend dependencies ... \u001b[?25l\u001b[?25hdone\n",
            "  Preparing metadata (pyproject.toml) ... \u001b[?25l\u001b[?25hdone\n",
            "Requirement already satisfied: tqdm in /usr/local/lib/python3.8/dist-packages (from openai) (4.64.1)\n",
            "Requirement already satisfied: requests>=2.20 in /usr/local/lib/python3.8/dist-packages (from openai) (2.25.1)\n",
            "Requirement already satisfied: aiohttp in /usr/local/lib/python3.8/dist-packages (from openai) (3.8.3)\n",
            "Requirement already satisfied: chardet<5,>=3.0.2 in /usr/local/lib/python3.8/dist-packages (from requests>=2.20->openai) (4.0.0)\n",
            "Requirement already satisfied: urllib3<1.27,>=1.21.1 in /usr/local/lib/python3.8/dist-packages (from requests>=2.20->openai) (1.24.3)\n",
            "Requirement already satisfied: certifi>=2017.4.17 in /usr/local/lib/python3.8/dist-packages (from requests>=2.20->openai) (2022.12.7)\n",
            "Requirement already satisfied: idna<3,>=2.5 in /usr/local/lib/python3.8/dist-packages (from requests>=2.20->openai) (2.10)\n",
            "Requirement already satisfied: aiosignal>=1.1.2 in /usr/local/lib/python3.8/dist-packages (from aiohttp->openai) (1.3.1)\n",
            "Requirement already satisfied: attrs>=17.3.0 in /usr/local/lib/python3.8/dist-packages (from aiohttp->openai) (22.2.0)\n",
            "Requirement already satisfied: multidict<7.0,>=4.5 in /usr/local/lib/python3.8/dist-packages (from aiohttp->openai) (6.0.4)\n",
            "Requirement already satisfied: frozenlist>=1.1.1 in /usr/local/lib/python3.8/dist-packages (from aiohttp->openai) (1.3.3)\n",
            "Requirement already satisfied: yarl<2.0,>=1.0 in /usr/local/lib/python3.8/dist-packages (from aiohttp->openai) (1.8.2)\n",
            "Requirement already satisfied: async-timeout<5.0,>=4.0.0a3 in /usr/local/lib/python3.8/dist-packages (from aiohttp->openai) (4.0.2)\n",
            "Requirement already satisfied: charset-normalizer<3.0,>=2.0 in /usr/local/lib/python3.8/dist-packages (from aiohttp->openai) (2.1.1)\n",
            "Building wheels for collected packages: openai\n",
            "  Building wheel for openai (pyproject.toml) ... \u001b[?25l\u001b[?25hdone\n",
            "  Created wheel for openai: filename=openai-0.26.4-py3-none-any.whl size=67744 sha256=f972786583717c638452492718e4ea6ab5df4900bab14a72078d7e3f55d84db7\n",
            "  Stored in directory: /root/.cache/pip/wheels/2b/d8/4e/268f029bd3277c1dd9e8781a0e0296e0a63822665bfa2429fc\n",
            "Successfully built openai\n",
            "Installing collected packages: openai\n",
            "Successfully installed openai-0.26.4\n",
            "Cloning into 'RecursiveSummarizer'...\n",
            "remote: Enumerating objects: 1050, done.\u001b[K\n",
            "remote: Counting objects: 100% (1050/1050), done.\u001b[K\n",
            "remote: Compressing objects: 100% (1014/1014), done.\u001b[K\n",
            "remote: Total 1050 (delta 37), reused 1041 (delta 33), pack-reused 0\u001b[K\n",
            "Receiving objects: 100% (1050/1050), 3.46 MiB | 16.16 MiB/s, done.\n",
            "Resolving deltas: 100% (37/37), done.\n",
            "/content/RecursiveSummarizer\n"
          ]
        }
      ],
      "source": [
        "!pip install openai\n",
        "!git clone https://github.com/meefs/RecursiveSummarizer.git"
      ]
    },
    {
      "cell_type": "markdown",
      "source": [
        "Run RecusiveSummarizer"
      ],
      "metadata": {
        "id": "GMBXI5spP_Ul"
      }
    },
    {
      "cell_type": "code",
      "source": [
        "import openai\n",
        "import os\n",
        "from time import time,sleep\n",
        "import textwrap\n",
        "import re\n",
        "\n",
        "\n",
        "def open_file(filepath):\n",
        "    with open(filepath, 'r', encoding='utf-8') as infile:\n",
        "        return infile.read()\n",
        "\n",
        "\n",
        "openai.api_key = open_file('openaiapikey.txt')\n",
        "\n",
        "\n",
        "def save_file(content, filepath):\n",
        "    with open(filepath, 'w', encoding='utf-8') as outfile:\n",
        "        outfile.write(content)\n",
        "\n",
        "engine = \"text-davinci-002\" #@param [\"text-davinci-003\", \"text-davinci-002\", \"text-davinci-001\", \"text-curie-001\", \"text-babbage-001\", \"text-ada-001\"]\n",
        "temp = 0.75 #@param {type:\"slider\", min:0, max:1, step:0.01}\n",
        "top_p = 1 #@param {type:\"slider\", min:0, max:1, step:0.1}\n",
        "tokens = 2000 #@param {type:\"slider\", min:0, max:4000, step:50}\n",
        "freq_pen = 0.25 #@param {type:\"slider\", min:-2, max:2, step:0.05}\n",
        "pres_pen = 0.25 #@param {type:\"slider\", min:-2, max:2, step:0.05}\n",
        "def gpt3_completion(prompt, engine=engine, temp=temp, top_p=top_p, tokens=tokens, freq_pen=freq_pen, pres_pen=pres_pen, stop=['<<END>>']):\n",
        "    max_retry = 5\n",
        "    retry = 0\n",
        "    while True:\n",
        "        try:\n",
        "            response = openai.Completion.create(\n",
        "                engine=engine,\n",
        "                prompt=prompt,\n",
        "                temperature=temp,\n",
        "                max_tokens=tokens,\n",
        "                top_p=top_p,\n",
        "                frequency_penalty=freq_pen,\n",
        "                presence_penalty=pres_pen,\n",
        "                stop=stop)\n",
        "            text = response['choices'][0]['text'].strip()\n",
        "            text = re.sub('\\s+', ' ', text)\n",
        "            filename = '%s_gpt3.txt' % time()\n",
        "            with open('gpt3_logs/%s' % filename, 'w') as outfile:\n",
        "                outfile.write('PROMPT:\\n\\n' + prompt + '\\n\\n==========\\n\\nRESPONSE:\\n\\n' + text)\n",
        "            return text\n",
        "        except Exception as oops:\n",
        "            retry += 1\n",
        "            if retry >= max_retry:\n",
        "                return \"GPT3 error: %s\" % oops\n",
        "            print('Error communicating with OpenAI:', oops)\n",
        "            sleep(1)\n",
        "\n",
        "\n",
        "if __name__ == '__main__':\n",
        "    alltext = open_file('input.txt')\n",
        "    chunks = textwrap.wrap(alltext, 1000)\n",
        "    result = list()\n",
        "    count = 0\n",
        "    for chunk in chunks:\n",
        "        count = count + 1\n",
        "        prompt = open_file('prompt.txt').replace('<<SUMMARY>>', chunk)\n",
        "        prompt = prompt.encode(encoding='ASCII',errors='ignore').decode()\n",
        "        summary = gpt3_completion(prompt)\n",
        "        print('\\n\\n\\n', count, 'of', len(chunks), ' - ', summary)\n",
        "        result.append(summary)\n",
        "    save_file('\\n\\n'.join(result), 'output_%s.txt' % time())"
      ],
      "metadata": {
        "colab": {
          "base_uri": "https://localhost:8080/"
        },
        "id": "TXPDkWpvReNG",
        "outputId": "8dbd034b-c38e-40fb-f89d-3d63d54c690e"
      },
      "execution_count": 21,
      "outputs": [
        {
          "output_type": "stream",
          "name": "stdout",
          "text": [
            "\n",
            "\n",
            "\n",
            " 1 of 16  -  My wife and I were driving through a national wildlife refuge when we saw an animal run across the road in front of us. At first, we thought it was a bird, but upon closer inspection, we realized it didn't have a beak and its body was smooth with no feathers. We also noticed that its tail was long and tapered to a point, with no indication of wings along its body. We then saw it run into some tall grass and wondered if we had just seen a small dinosaur.\n",
            "\n",
            "\n",
            "\n",
            " 2 of 16  -  The individual and a friend saw something they couldn't explain while driving in a refuge. It was a dark brown, two-foot long creature with no feathers and no wings, that looked a bit like a lizard. They were both experienced with animal identification, and neither could come up with an explanation for what they saw. They considered the possibility that it was a hallucination, but agreed that if the other person hadn't seen it too, it would be very hard to convince anyone of what they saw.\n",
            "\n",
            "\n",
            "\n",
            " 3 of 16  -  The speaker's mother has a fear of heights, and the speaker grew up never understanding why. The speaker has always been interested in ghosts and the paranormal, and has a healthy skepticism. However, the speaker's mother tells a story that has left the speaker unsettled. The mother claims that she once saw a dinosaur, unchanged and undetected since the mass extinction. The only explanation the speaker can think of is that there was a glitch in the timeline, but this seems unlikely. The story has left the speaker wondering if there is anything out there that we don't know about.\n",
            "\n",
            "\n",
            "\n",
            " 4 of 16  -  A woman tells her friend about her fear of jumping from high places. She explains that she was with her friends at an old palace theater when they found an entrance to the roof. They were goofing around and looking over the edge when she suddenly felt a compulsion to jump. She was able to resist, but the experience scared her.\n",
            "\n",
            "\n",
            "\n",
            " 5 of 16  -  At a party at the top of a theater built in 1921, my mom felt a strong compulsion to jump off the roof. She said it felt like there was a hand pushing her from behind. A young man saw her and grabbed her arm, breaking the spell. She cried and they helped her down and took her home. She never told anyone about it except for me many years later. She thought she must have gone temporarily insane. It's possible that someone else had jumped from the roof at some point, but there was no record of it.\n",
            "\n",
            "\n",
            "\n",
            " 6 of 16  -  The individual writing this piece says that they have always experienced paranormal activity, and that their mother recently had an experience where someone tried to make her jump off a roof. They say that their mother felt better after talking about it and praying for the person who was on the roof. They themselves say that they have never experienced anything malicious, just weird things like noises, coldness, and lights turning on and off.\n",
            "\n",
            "\n",
            "\n",
            " 7 of 16  -  The individual recounting their story describes paranormal activity that they and their family experienced in several homes they lived in. The activity began when the individual was around the age of five and continued into adulthood. The activity included strange noises, footsteps, and figures appearing in doorways. The activity finally subsided when the individual moved into their forever home.\n",
            "\n",
            "\n",
            "\n",
            " 8 of 16  -  The individual describes experiencing strange activity in their home that seems to center around them specifically - when they are gone, nothing happens, but as soon as they return, objects fall off tables, lights turn on and off, and doors slam shut. They describe feeling threatened on two occasions: once when a balloon was floating around the house in an unnatural pattern, and again when they felt a sharp burn on their leg that left three scratches. They say that since then, they have never been hostile toward whatever is following them.\n",
            "\n",
            "\n",
            "\n",
            " 9 of 16  -  The person writing this has been experiencing increased paranormal activity in their home, culminating in a nightmare where they were being attacked and could not make any noise. They suspect that their mental health may be playing a role in this, as they have been under a lot of stress recently.\n",
            "\n",
            "\n",
            "\n",
            " 10 of 16  -  The person writing this account details a recent experience in which they heard their dog scratching at the door, even though the dog had passed away two years prior. The person goes on to say that they don't believe in the paranormal or supernatural, but they can't explain what they heard. They are left feeling shaken and unsure of what to think.\n",
            "\n",
            "\n",
            "\n",
            " 11 of 16  -  A mother becomes aware of a presence following her and her family around after her toddler is born. After taking a picture of her sleeping child, she notices that the face detection software picks up three faces instead of just one. She runs the picture through a makeup app and sees that one of the faces is that of a creature with its mouth open. A spiritual person she shows the picture to tells her that this creature was sent to destroy the peace in her home. The woman and her family are helped to cleanse their home and are given protection.\n",
            "\n",
            "\n",
            "\n",
            " 12 of 16  -  The narrator's baby girl received battery operated voice toys, which would turn on and play by themselves. The toys would also make noises at inappropriate times. The family suspected that the batteries were old and triggering themselves, but they found that there were no batteries inserted in the toys. The family ended up destroying all of the voice toy boxes.\n",
            "\n",
            "\n",
            "\n",
            " 13 of 16  -  A family has a generational toy dinosaur that stopped working 15 years ago but was saved because it was a beloved toy from the 90s. Recently, they have been hearing the toy repeatedly making noise even though there are no batteries in it. This has been happening with other toys as well, and it is now happening more frequently. The family is scared and does not know what to do.\n",
            "\n",
            "\n",
            "\n",
            " 14 of 16  -  The individual in question began working at a store where their boss would frequently see a ghost they called Henry. Henry would appear as a tall man in a brown trench coat and over time, just became a black shadow. The individual in question never witnessed this themselves but started to hear footsteps around the store on a daily basis. They never saw anything, so they couldn't rule out that it could be noise from the freezers, but it sounded like footsteps.\n",
            "\n",
            "\n",
            "\n",
            " 15 of 16  -  The speaker's grandfather told him that the store he works in used to be two stores, one a grocery store. The speaker has experienced strange things happening in the right half of the store, like bread falling off shelves and footsteps and loud bangs. The old store was demolished and the speaker had to go back there numerous times before it was demolished.\n",
            "\n",
            "\n",
            "\n",
            " 16 of 16  -  The author describes settling into the new store and still experiencing the same strange occurrences that happened in the old store. These include hearing footsteps and things falling, even though there is no one there. The author speculates that these things are happening on purpose.\n"
          ]
        }
      ]
    },
    {
      "cell_type": "code",
      "source": [],
      "metadata": {
        "id": "KShdagU4e9LA"
      },
      "execution_count": null,
      "outputs": []
    }
  ]
}