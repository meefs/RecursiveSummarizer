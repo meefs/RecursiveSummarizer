{
  "nbformat": 4,
  "nbformat_minor": 0,
  "metadata": {
    "colab": {
      "provenance": [],
      "authorship_tag": "ABX9TyPjQ6fDPVxp9/MN8FHx9Zwq",
      "include_colab_link": true
    },
    "kernelspec": {
      "name": "python3",
      "display_name": "Python 3"
    },
    "language_info": {
      "name": "python"
    }
  },
  "cells": [
    {
      "cell_type": "markdown",
      "metadata": {
        "id": "view-in-github",
        "colab_type": "text"
      },
      "source": [
        "<a href=\"https://colab.research.google.com/github/meefs/RecursiveSummarizer/blob/main/RecursiveSummarizer.ipynb\" target=\"_parent\"><img src=\"https://colab.research.google.com/assets/colab-badge.svg\" alt=\"Open In Colab\"/></a>"
      ]
    },
    {
      "cell_type": "markdown",
      "source": [
        "Setup environment"
      ],
      "metadata": {
        "id": "4VZX2Um-YvTn"
      }
    },
    {
      "cell_type": "code",
      "execution_count": 1,
      "metadata": {
        "colab": {
          "base_uri": "https://localhost:8080/"
        },
        "id": "jVx2Qrd1_4Me",
        "outputId": "9c6b6a86-9ad0-41b9-dd75-a32128f0085e"
      },
      "outputs": [
        {
          "output_type": "stream",
          "name": "stdout",
          "text": [
            "Looking in indexes: https://pypi.org/simple, https://us-python.pkg.dev/colab-wheels/public/simple/\n",
            "Collecting openai\n",
            "  Downloading openai-0.26.4.tar.gz (55 kB)\n",
            "\u001b[2K     \u001b[90m━━━━━━━━━━━━━━━━━━━━━━━━━━━━━━━━━━━━━━━━\u001b[0m \u001b[32m55.6/55.6 KB\u001b[0m \u001b[31m3.0 MB/s\u001b[0m eta \u001b[36m0:00:00\u001b[0m\n",
            "\u001b[?25h  Installing build dependencies ... \u001b[?25l\u001b[?25hdone\n",
            "  Getting requirements to build wheel ... \u001b[?25l\u001b[?25hdone\n",
            "  Installing backend dependencies ... \u001b[?25l\u001b[?25hdone\n",
            "  Preparing metadata (pyproject.toml) ... \u001b[?25l\u001b[?25hdone\n",
            "Requirement already satisfied: tqdm in /usr/local/lib/python3.8/dist-packages (from openai) (4.64.1)\n",
            "Requirement already satisfied: requests>=2.20 in /usr/local/lib/python3.8/dist-packages (from openai) (2.25.1)\n",
            "Requirement already satisfied: aiohttp in /usr/local/lib/python3.8/dist-packages (from openai) (3.8.3)\n",
            "Requirement already satisfied: chardet<5,>=3.0.2 in /usr/local/lib/python3.8/dist-packages (from requests>=2.20->openai) (4.0.0)\n",
            "Requirement already satisfied: urllib3<1.27,>=1.21.1 in /usr/local/lib/python3.8/dist-packages (from requests>=2.20->openai) (1.24.3)\n",
            "Requirement already satisfied: certifi>=2017.4.17 in /usr/local/lib/python3.8/dist-packages (from requests>=2.20->openai) (2022.12.7)\n",
            "Requirement already satisfied: idna<3,>=2.5 in /usr/local/lib/python3.8/dist-packages (from requests>=2.20->openai) (2.10)\n",
            "Requirement already satisfied: aiosignal>=1.1.2 in /usr/local/lib/python3.8/dist-packages (from aiohttp->openai) (1.3.1)\n",
            "Requirement already satisfied: attrs>=17.3.0 in /usr/local/lib/python3.8/dist-packages (from aiohttp->openai) (22.2.0)\n",
            "Requirement already satisfied: multidict<7.0,>=4.5 in /usr/local/lib/python3.8/dist-packages (from aiohttp->openai) (6.0.4)\n",
            "Requirement already satisfied: frozenlist>=1.1.1 in /usr/local/lib/python3.8/dist-packages (from aiohttp->openai) (1.3.3)\n",
            "Requirement already satisfied: yarl<2.0,>=1.0 in /usr/local/lib/python3.8/dist-packages (from aiohttp->openai) (1.8.2)\n",
            "Requirement already satisfied: async-timeout<5.0,>=4.0.0a3 in /usr/local/lib/python3.8/dist-packages (from aiohttp->openai) (4.0.2)\n",
            "Requirement already satisfied: charset-normalizer<3.0,>=2.0 in /usr/local/lib/python3.8/dist-packages (from aiohttp->openai) (2.1.1)\n",
            "Building wheels for collected packages: openai\n",
            "  Building wheel for openai (pyproject.toml) ... \u001b[?25l\u001b[?25hdone\n",
            "  Created wheel for openai: filename=openai-0.26.4-py3-none-any.whl size=67744 sha256=f972786583717c638452492718e4ea6ab5df4900bab14a72078d7e3f55d84db7\n",
            "  Stored in directory: /root/.cache/pip/wheels/2b/d8/4e/268f029bd3277c1dd9e8781a0e0296e0a63822665bfa2429fc\n",
            "Successfully built openai\n",
            "Installing collected packages: openai\n",
            "Successfully installed openai-0.26.4\n",
            "Cloning into 'RecursiveSummarizer'...\n",
            "remote: Enumerating objects: 1050, done.\u001b[K\n",
            "remote: Counting objects: 100% (1050/1050), done.\u001b[K\n",
            "remote: Compressing objects: 100% (1014/1014), done.\u001b[K\n",
            "remote: Total 1050 (delta 37), reused 1041 (delta 33), pack-reused 0\u001b[K\n",
            "Receiving objects: 100% (1050/1050), 3.46 MiB | 16.16 MiB/s, done.\n",
            "Resolving deltas: 100% (37/37), done.\n",
            "/content/RecursiveSummarizer\n"
          ]
        }
      ],
      "source": [
        "!pip install openai\n",
        "!git clone https://github.com/meefs/RecursiveSummarizer.git"
      ]
    },
    {
      "cell_type": "markdown",
      "source": [
        "Run RecusiveSummarizer"
      ],
      "metadata": {
        "id": "GMBXI5spP_Ul"
      }
    },
    {
      "cell_type": "code",
      "source": [
        "import openai\n",
        "import os\n",
        "from time import time,sleep\n",
        "import textwrap\n",
        "import re\n",
        "\n",
        "\n",
        "def open_file(filepath):\n",
        "    with open(filepath, 'r', encoding='utf-8') as infile:\n",
        "        return infile.read()\n",
        "\n",
        "\n",
        "openai.api_key = open_file('openaiapikey.txt')\n",
        "\n",
        "\n",
        "def save_file(content, filepath):\n",
        "    with open(filepath, 'w', encoding='utf-8') as outfile:\n",
        "        outfile.write(content)\n",
        "\n",
        "engine = \"text-davinci-002\" #@param [\"text-davinci-003\", \"text-davinci-002\", \"text-davinci-001\", \"text-curie-001\", \"text-babbage-001\", \"text-ada-001\"]\n",
        "temp = 0.75 #@param {type:\"slider\", min:0, max:1, step:0.01}\n",
        "top_p = 1 #@param {type:\"slider\", min:0, max:1, step:0.1}\n",
        "tokens = 3337 #@param {type:\"slider\", min:0, max:4000, step:1}\n",
        "freq_pen = 0.25 #@param {type:\"slider\", min:-2, max:2, step:0.05}\n",
        "pres_pen = 0.25 #@param {type:\"slider\", min:-2, max:2, step:0.05}\n",
        "def gpt3_completion(prompt, engine=engine, temp=temp, top_p=top_p, tokens=tokens, freq_pen=freq_pen, pres_pen=pres_pen, stop=['<<END>>']):\n",
        "    max_retry = 5\n",
        "    retry = 0\n",
        "    while True:\n",
        "        try:\n",
        "            response = openai.Completion.create(\n",
        "                engine=engine,\n",
        "                prompt=prompt,\n",
        "                temperature=temp,\n",
        "                max_tokens=tokens,\n",
        "                top_p=top_p,\n",
        "                frequency_penalty=freq_pen,\n",
        "                presence_penalty=pres_pen,\n",
        "                stop=stop)\n",
        "            text = response['choices'][0]['text'].strip()\n",
        "            text = re.sub('\\s+', ' ', text)\n",
        "            filename = '%s_gpt3.txt' % time()\n",
        "            with open('gpt3_logs/%s' % filename, 'w') as outfile:\n",
        "                outfile.write('PROMPT:\\n\\n' + prompt + '\\n\\n==========\\n\\nRESPONSE:\\n\\n' + text)\n",
        "            return text\n",
        "        except Exception as oops:\n",
        "            retry += 1\n",
        "            if retry >= max_retry:\n",
        "                return \"GPT3 error: %s\" % oops\n",
        "            print('Error communicating with OpenAI:', oops)\n",
        "            sleep(1)\n",
        "\n",
        "\n",
        "if __name__ == '__main__':\n",
        "    alltext = open_file('input.txt')\n",
        "    chunks = textwrap.wrap(alltext, 2000)\n",
        "    result = list()\n",
        "    count = 0\n",
        "    for chunk in chunks:\n",
        "        count = count + 1\n",
        "        prompt = open_file('prompt.txt').replace('<<SUMMARY>>', chunk)\n",
        "        prompt = prompt.encode(encoding='ASCII',errors='ignore').decode()\n",
        "        summary = gpt3_completion(prompt)\n",
        "        print('\\n\\n\\n', count, 'of', len(chunks), ' - ', summary)\n",
        "        result.append(summary)\n",
        "    save_file('\\n\\n'.join(result), 'output_%s.txt' % time())"
      ],
      "metadata": {
        "colab": {
          "base_uri": "https://localhost:8080/"
        },
        "id": "TXPDkWpvReNG",
        "outputId": "aa208d05-c2ab-45a2-ef7a-61aa09ac3097"
      },
      "execution_count": 14,
      "outputs": [
        {
          "output_type": "stream",
          "name": "stdout",
          "text": [
            "\n",
            "\n",
            "\n",
            " 1 of 10  -  The essay is about a man reflecting on the life of Kidney Foot Cassidy, a man who was known for begging for money on the streets. The essayist reflects on how he used to see Cassidy around town, and how he won't be seeing him anymore now that he is dead.\n",
            "\n",
            "\n",
            "\n",
            " 2 of 10  -  Kidney Foot Cassidy is a homeless man who befriends a fellow homeless man, Floyd, in Chicago. Floyd has a dime, which he offers to Kidney Foot in order to buy him a hot dog and a cup of coffee. However, Kidney Foot is only interested in drinking, not eating, and so he declines the offer.\n",
            "\n",
            "\n",
            "\n",
            " 3 of 10  -  A man and his friend, \"Kidney Foot\", are walking down an alley when they are accosted by a man in a big coat. Kidney Foot takes the coat and two bottles of liquor from the man, and the man falls to the ground. The narrator, \"Floyd\", is surprised when Kidney Foot tells him that he killed the man. They take the coat and bottles back to Floyd's place, where Kidney Foot proceeds to drink most of the liquor.\n",
            "\n",
            "\n",
            "\n",
            " 4 of 10  -  The speaker was with a man named Floyd, who had been acting strangely. They were crossing a street when Floyd started laughing and the speaker told him to stop. The speaker then noticed that the streetcar conductor was looking at them and realized that Floyd must be nuts. They got off the streetcar and walked up the street, when the speaker realized that the county only took one fare from him. He then figured out that Floyd must be homeless and decided to take him home with him.\n",
            "\n",
            "\n",
            "\n",
            " 5 of 10  -  A man and a woman are talking about a third person, \"Floyd.\" The woman says that Floyd is in trouble and needs to be hidden away. The man agrees, and they go to hide Floyd in the man's room. The woman says that Floyd will have to be quiet or else the landlady will hear them. The man jokes that maybe they should give Floyd a slug of something to make him sleep. The woman does not find this funny.\n",
            "\n",
            "\n",
            "\n",
            " 6 of 10  -  The speaker is laughing at the fact that the person they are talking to is sleeping in a bed that is not theirs. They mention an old saying about a dead man's coat, and how nobody can see the person wearing it. The speaker then talks about how they are invisible, and how they can see the person they are talking to, but nobody else can.\n",
            "\n",
            "\n",
            "\n",
            " 7 of 10  -  A man wakes up his son, who is sleeping in a coat, and tells him it's rent day. The son, Cassidy, has a hangover and makes faces at the landlord, Mrs. Freiburg. She doesn't notice because she's talking to the father about the rent. The father pays her and she goes to make the bed. Cassidy is invisible and makes faces at her. She doesn't notice and he laughs.\n",
            "\n",
            "\n",
            "\n",
            " 8 of 10  -  The narrator and his friend, \"kidney foot\", go out and about, causing trouble. They are eventually caught by the police and the newspapers write about them. The coat that the dead man was wearing becomes an issue because they can't get it off of him. Cassidy, the dead man, becomes scared and the narrator is nearly driven insane.\n",
            "\n",
            "\n",
            "\n",
            " 9 of 10  -  A man tells his friend about the benefits of being invisible, and how he plans to get rid of his unwanted roommate. He waits until the roommate is asleep, then stabs him with a knife and takes his coat. He leaves the room and spends the day enjoying his new invisibility, but when he comes back later that day, he finds that his roommate's body is still there.\n",
            "\n",
            "\n",
            "\n",
            " 10 of 10  -  Ernest Chaffell tells the story of how he killed a man and made him invisible. He explains how he did it, and how the man's body has been hidden for three days. He also talks about how he plans to kill the man's wife.\n"
          ]
        }
      ]
    }
  ]
}